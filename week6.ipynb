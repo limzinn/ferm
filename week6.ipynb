{
 "cells": [
  {
   "cell_type": "code",
   "execution_count": 1,
   "metadata": {},
   "outputs": [],
   "source": [
    "from models import *\n",
    "import numpy as np"
   ]
  },
  {
   "cell_type": "code",
   "execution_count": 2,
   "metadata": {},
   "outputs": [
    {
     "name": "stdout",
     "output_type": "stream",
     "text": [
      "[0.05 0.   0.   0.   0.   0.   0.   0.   0.   0.  ] \n",
      "\n",
      "[0.05       0.05256355 0.         0.         0.         0.\n",
      " 0.         0.         0.         0.        ] \n",
      "\n",
      "[0.05       0.05256355 0.05525855 0.         0.         0.\n",
      " 0.         0.         0.         0.        ] \n",
      "\n",
      "[0.05       0.05256355 0.05525855 0.05809171 0.         0.\n",
      " 0.         0.         0.         0.        ] \n",
      "\n",
      "[0.05       0.05256355 0.05525855 0.05809171 0.06107014 0.\n",
      " 0.         0.         0.         0.        ] \n",
      "\n",
      "[0.05       0.05256355 0.05525855 0.05809171 0.06107014 0.06420127\n",
      " 0.         0.         0.         0.        ] \n",
      "\n",
      "[0.05       0.05256355 0.05525855 0.05809171 0.06107014 0.06420127\n",
      " 0.06749294 0.         0.         0.        ] \n",
      "\n",
      "[0.05       0.05256355 0.05525855 0.05809171 0.06107014 0.06420127\n",
      " 0.06749294 0.07095338 0.         0.        ] \n",
      "\n",
      "[0.05       0.05256355 0.05525855 0.05809171 0.06107014 0.06420127\n",
      " 0.06749294 0.07095338 0.07459123 0.        ] \n",
      "\n",
      "[0.05       0.05256355 0.05525855 0.05809171 0.06107014 0.06420127\n",
      " 0.06749294 0.07095338 0.07459123 0.07841561] \n",
      "\n"
     ]
    }
   ],
   "source": [
    "spotRates = np.array([3.0,3.1,3.2,3.3,3.4,3.5,3.55,3.6,3.65,3.7]) / 100 #10 period model\n",
    "#spotRates = np.array([7.3, 7.62, 8.1, 8.45, 9.2, 9.64, 10.12, 10.45, 10.75, 11.22, 11.55, 11.92, 12.2, 12.32]) / 100 #10 period model\n",
    "shortRateModel = shortRate2(9, np.repeat(0.05, 10), 0.05)\n",
    "shortRateModel.printTree()"
   ]
  },
  {
   "cell_type": "markdown",
   "metadata": {},
   "source": [
    "<h2>Question 1</h2>"
   ]
  },
  {
   "cell_type": "code",
   "execution_count": 3,
   "metadata": {},
   "outputs": [],
   "source": [
    "elementaryModel = elementary(10, shortRateModel)"
   ]
  },
  {
   "cell_type": "code",
   "execution_count": 4,
   "metadata": {},
   "outputs": [],
   "source": [
    "BDTModel = BDT(elementaryModel, spotRates)"
   ]
  },
  {
   "cell_type": "code",
   "execution_count": 5,
   "metadata": {},
   "outputs": [
    {
     "name": "stdout",
     "output_type": "stream",
     "text": [
      "[0.03       0.03120172 0.03232632 0.03337706 0.03435709 0.03526947\n",
      " 0.03309532 0.03311306 0.03311065 0.03308916] 6.23009448060105e-30\n"
     ]
    },
    {
     "name": "stderr",
     "output_type": "stream",
     "text": [
      "/opt/anaconda3/lib/python3.8/site-packages/scipy/optimize/nonlin.py:1001: RuntimeWarning: divide by zero encountered in true_divide\n",
      "  d = v / vdot(df, v)\n"
     ]
    }
   ],
   "source": [
    "newError = 1\n",
    "while newError > 1e-8:\n",
    "    newDrift, newError = BDTModel.calibrate(200)\n",
    "    print(newDrift, newError)\n",
    "    BDTModel.e.r.a = newDrift"
   ]
  },
  {
   "cell_type": "code",
   "execution_count": 6,
   "metadata": {},
   "outputs": [
    {
     "name": "stdout",
     "output_type": "stream",
     "text": [
      "4102.1176375557725\n"
     ]
    }
   ],
   "source": [
    "swapModel = swap(3, 9, 0.5, 0.5, 0.039, BDTModel.e.r, 1000000)\n",
    "swaptionModel = swaption(swapModel, 0, 3)\n",
    "swaptionModel.price()"
   ]
  },
  {
   "cell_type": "markdown",
   "metadata": {},
   "source": [
    "<h2>Question 2</h2>"
   ]
  },
  {
   "cell_type": "code",
   "execution_count": 7,
   "metadata": {},
   "outputs": [
    {
     "name": "stdout",
     "output_type": "stream",
     "text": [
      "[0.05 0.   0.   0.   0.   0.   0.   0.   0.   0.  ] \n",
      "\n",
      "[0.05       0.05525855 0.         0.         0.         0.\n",
      " 0.         0.         0.         0.        ] \n",
      "\n",
      "[0.05       0.05525855 0.06107014 0.         0.         0.\n",
      " 0.         0.         0.         0.        ] \n",
      "\n",
      "[0.05       0.05525855 0.06107014 0.06749294 0.         0.\n",
      " 0.         0.         0.         0.        ] \n",
      "\n",
      "[0.05       0.05525855 0.06107014 0.06749294 0.07459123 0.\n",
      " 0.         0.         0.         0.        ] \n",
      "\n",
      "[0.05       0.05525855 0.06107014 0.06749294 0.07459123 0.08243606\n",
      " 0.         0.         0.         0.        ] \n",
      "\n",
      "[0.05       0.05525855 0.06107014 0.06749294 0.07459123 0.08243606\n",
      " 0.09110594 0.         0.         0.        ] \n",
      "\n",
      "[0.05       0.05525855 0.06107014 0.06749294 0.07459123 0.08243606\n",
      " 0.09110594 0.10068764 0.         0.        ] \n",
      "\n",
      "[0.05       0.05525855 0.06107014 0.06749294 0.07459123 0.08243606\n",
      " 0.09110594 0.10068764 0.11127705 0.        ] \n",
      "\n",
      "[0.05       0.05525855 0.06107014 0.06749294 0.07459123 0.08243606\n",
      " 0.09110594 0.10068764 0.11127705 0.12298016] \n",
      "\n"
     ]
    }
   ],
   "source": [
    "shortRateModel2 = shortRate2(9, np.repeat(0.05, 10), 0.1)\n",
    "shortRateModel2.printTree()"
   ]
  },
  {
   "cell_type": "code",
   "execution_count": 8,
   "metadata": {},
   "outputs": [],
   "source": [
    "elementaryModel2 = elementary(10, shortRateModel2)"
   ]
  },
  {
   "cell_type": "code",
   "execution_count": 9,
   "metadata": {},
   "outputs": [],
   "source": [
    "BDTModel2 = BDT(elementaryModel2, spotRates)"
   ]
  },
  {
   "cell_type": "code",
   "execution_count": 10,
   "metadata": {},
   "outputs": [
    {
     "name": "stdout",
     "output_type": "stream",
     "text": [
      "[0.03       0.03040461 0.03069774 0.03089007 0.03099149 0.03101115\n",
      " 0.02836634 0.02766876 0.02697423 0.02628435] 1.7805222335859995e-31\n"
     ]
    },
    {
     "name": "stderr",
     "output_type": "stream",
     "text": [
      "/opt/anaconda3/lib/python3.8/site-packages/scipy/optimize/nonlin.py:771: RuntimeWarning: invalid value encountered in multiply\n",
      "  self.collapsed += c[:,None] * d[None,:].conj()\n"
     ]
    }
   ],
   "source": [
    "newError = 1\n",
    "while newError > 1e-8:\n",
    "    newDrift, newError = BDTModel2.calibrate(200)\n",
    "    print(newDrift, newError)\n",
    "    BDTModel2.e.r.a = newDrift"
   ]
  },
  {
   "cell_type": "code",
   "execution_count": 11,
   "metadata": {},
   "outputs": [
    {
     "name": "stdout",
     "output_type": "stream",
     "text": [
      "8096.569715699308\n"
     ]
    }
   ],
   "source": [
    "swapModel2 = swap(3, 9, 0.5, 0.5, 0.039, BDTModel2.e.r, 1000000)\n",
    "swaptionModel2 = swaption(swapModel2, 0, 3)\n",
    "swaptionModel2.price()"
   ]
  },
  {
   "cell_type": "markdown",
   "metadata": {},
   "source": [
    "<h2>Question 3</h2>"
   ]
  },
  {
   "cell_type": "code",
   "execution_count": 12,
   "metadata": {},
   "outputs": [
    {
     "name": "stdout",
     "output_type": "stream",
     "text": [
      "[0.05 0.   0.   0.   0.   0.   0.   0.   0.   0.   0.  ] \n",
      "\n",
      "[0.045 0.055 0.    0.    0.    0.    0.    0.    0.    0.    0.   ] \n",
      "\n",
      "[0.0405 0.0495 0.0605 0.     0.     0.     0.     0.     0.     0.\n",
      " 0.    ] \n",
      "\n",
      "[0.03645 0.04455 0.05445 0.06655 0.      0.      0.      0.      0.\n",
      " 0.      0.     ] \n",
      "\n",
      "[0.032805 0.040095 0.049005 0.059895 0.073205 0.       0.       0.\n",
      " 0.       0.       0.      ] \n",
      "\n",
      "[0.0295245 0.0360855 0.0441045 0.0539055 0.0658845 0.0805255 0.\n",
      " 0.        0.        0.        0.       ] \n",
      "\n",
      "[0.02657205 0.03247695 0.03969405 0.04851495 0.05929605 0.07247295\n",
      " 0.08857805 0.         0.         0.         0.        ] \n",
      "\n",
      "[0.02391485 0.02922926 0.03572465 0.04366346 0.05336645 0.06522566\n",
      " 0.07972025 0.09743586 0.         0.         0.        ] \n",
      "\n",
      "[0.02152336 0.02630633 0.03215218 0.03929711 0.0480298  0.05870309\n",
      " 0.07174822 0.08769227 0.10717944 0.         0.        ] \n",
      "\n",
      "[0.01937102 0.0236757  0.02893696 0.0353674  0.04322682 0.05283278\n",
      " 0.0645734  0.07892304 0.0964615  0.11789738 0.        ] \n",
      "\n",
      "[0.01743392 0.02130813 0.02604327 0.03183066 0.03890414 0.0475495\n",
      " 0.05811606 0.07103074 0.08681535 0.10610765 0.12968712] \n",
      "\n"
     ]
    }
   ],
   "source": [
    "shortRateModel3 = shortRate(10, 0.05, 1.1, 0.9)\n",
    "shortRateModel3.printTree()"
   ]
  },
  {
   "cell_type": "code",
   "execution_count": 13,
   "metadata": {},
   "outputs": [
    {
     "name": "stdout",
     "output_type": "stream",
     "text": [
      "[57.21685824  0.          0.          0.          0.          0.\n",
      "  0.          0.          0.          0.          0.        ] \n",
      "\n",
      "[63.03366138 57.93139145  0.          0.          0.          0.\n",
      "  0.          0.          0.          0.          0.        ] \n",
      "\n",
      "[68.59493948 64.06743792 59.00264201  0.          0.          0.\n",
      "  0.          0.          0.          0.          0.        ] \n",
      "\n",
      "[73.83792362 69.93560612 65.49626478 60.51707365  0.          0.\n",
      "  0.          0.          0.          0.          0.        ] \n",
      "\n",
      "[78.71996046 75.46359102 71.70525359 67.41597523 62.58655393  0.\n",
      "  0.          0.          0.          0.          0.        ] \n",
      "\n",
      "[83.21668032 80.60184532 77.54654815 74.00732972 69.95035301 65.35829575\n",
      "  0.          0.          0.          0.          0.        ] \n",
      "\n",
      "[87.31937569 85.3216686  82.96297936 80.19589702 76.9751208  73.26181949\n",
      " 69.02946872  0.          0.          0.          0.        ] \n",
      "\n",
      "[91.0320425  89.61229863 87.92124965 85.9161047  83.55176794 80.78289498\n",
      " 77.56703197 73.86902372  0.          0.          0.        ] \n",
      "\n",
      "[94.36842305 93.47755328 92.40866486 91.12986585 89.60550074 87.79663112\n",
      " 85.66204888 83.16000868 80.25086692  0.          0.        ] \n",
      "\n",
      "[97.34927585 96.93243837 96.42928459 95.82284691 95.09338554 94.21820044\n",
      " 93.17156543 91.9248601  90.44699569 88.705248    0.        ] \n",
      "\n",
      "[100. 100. 100. 100. 100. 100. 100. 100. 100. 100. 100.] \n",
      "\n"
     ]
    }
   ],
   "source": [
    "recoveryBondModel = recoveryBond(10, shortRateModel3, 0.2, 0.01, 1.01, 0.5, 0.5, 100, 0)\n",
    "recoveryBondModel.printTree()"
   ]
  },
  {
   "cell_type": "markdown",
   "metadata": {},
   "source": [
    "<h2>Questions 4 and 5</h2>\n",
    "<p>Excel assignments</p>"
   ]
  },
  {
   "cell_type": "code",
   "execution_count": null,
   "metadata": {},
   "outputs": [],
   "source": []
  }
 ],
 "metadata": {
  "kernelspec": {
   "display_name": "Python 3",
   "language": "python",
   "name": "python3"
  },
  "language_info": {
   "codemirror_mode": {
    "name": "ipython",
    "version": 3
   },
   "file_extension": ".py",
   "mimetype": "text/x-python",
   "name": "python",
   "nbconvert_exporter": "python",
   "pygments_lexer": "ipython3",
   "version": "3.8.5"
  }
 },
 "nbformat": 4,
 "nbformat_minor": 4
}
