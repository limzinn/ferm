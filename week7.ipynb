{
 "cells": [
  {
   "cell_type": "code",
   "execution_count": 1,
   "metadata": {},
   "outputs": [],
   "source": [
    "import numpy as np\n",
    "import pandas as pd\n",
    "from models import *"
   ]
  },
  {
   "cell_type": "markdown",
   "metadata": {},
   "source": [
    "<h2>Question 1</h2>"
   ]
  },
  {
   "cell_type": "code",
   "execution_count": 2,
   "metadata": {},
   "outputs": [
    {
     "name": "stdout",
     "output_type": "stream",
     "text": [
      "2147.286492048559\n"
     ]
    }
   ],
   "source": [
    "c = 0.05 / 12\n",
    "n = 30 * 12\n",
    "m0 = 400000\n",
    "\n",
    "b = c * ((1 + c) ** n) * m0 / ((1 + c) ** n - 1)\n",
    "print(b)"
   ]
  },
  {
   "cell_type": "markdown",
   "metadata": {},
   "source": [
    "<h2>Question 2</h2>"
   ]
  },
  {
   "cell_type": "code",
   "execution_count": 3,
   "metadata": {},
   "outputs": [
    {
     "data": {
      "text/html": [
       "<div>\n",
       "<style scoped>\n",
       "    .dataframe tbody tr th:only-of-type {\n",
       "        vertical-align: middle;\n",
       "    }\n",
       "\n",
       "    .dataframe tbody tr th {\n",
       "        vertical-align: top;\n",
       "    }\n",
       "\n",
       "    .dataframe thead th {\n",
       "        text-align: right;\n",
       "    }\n",
       "</style>\n",
       "<table border=\"1\" class=\"dataframe\">\n",
       "  <thead>\n",
       "    <tr style=\"text-align: right;\">\n",
       "      <th></th>\n",
       "      <th>CPR</th>\n",
       "      <th>SMM</th>\n",
       "      <th>Monthly Payment</th>\n",
       "      <th>Interest In</th>\n",
       "      <th>Interest Out</th>\n",
       "      <th>Principal Repayment</th>\n",
       "      <th>Prepayment</th>\n",
       "      <th>Total Payment</th>\n",
       "      <th>Ending Balance</th>\n",
       "    </tr>\n",
       "  </thead>\n",
       "  <tbody>\n",
       "    <tr>\n",
       "      <th>0</th>\n",
       "      <td>0.002</td>\n",
       "      <td>0.000167</td>\n",
       "      <td>2.865724</td>\n",
       "      <td>2.000000</td>\n",
       "      <td>1.666667</td>\n",
       "      <td>0.865724</td>\n",
       "      <td>6.658344e-02</td>\n",
       "      <td>2.598974</td>\n",
       "      <td>3.990677e+02</td>\n",
       "    </tr>\n",
       "    <tr>\n",
       "      <th>1</th>\n",
       "      <td>0.004</td>\n",
       "      <td>0.000334</td>\n",
       "      <td>2.865246</td>\n",
       "      <td>1.995338</td>\n",
       "      <td>1.662782</td>\n",
       "      <td>0.869908</td>\n",
       "      <td>1.329766e-01</td>\n",
       "      <td>2.665666</td>\n",
       "      <td>3.980648e+02</td>\n",
       "    </tr>\n",
       "    <tr>\n",
       "      <th>2</th>\n",
       "      <td>0.006</td>\n",
       "      <td>0.000501</td>\n",
       "      <td>2.864289</td>\n",
       "      <td>1.990324</td>\n",
       "      <td>1.658603</td>\n",
       "      <td>0.873965</td>\n",
       "      <td>1.991437e-01</td>\n",
       "      <td>2.731712</td>\n",
       "      <td>3.969917e+02</td>\n",
       "    </tr>\n",
       "    <tr>\n",
       "      <th>3</th>\n",
       "      <td>0.008</td>\n",
       "      <td>0.000669</td>\n",
       "      <td>2.862853</td>\n",
       "      <td>1.984958</td>\n",
       "      <td>1.654132</td>\n",
       "      <td>0.877895</td>\n",
       "      <td>2.650491e-01</td>\n",
       "      <td>2.797076</td>\n",
       "      <td>3.958488e+02</td>\n",
       "    </tr>\n",
       "    <tr>\n",
       "      <th>4</th>\n",
       "      <td>0.010</td>\n",
       "      <td>0.000837</td>\n",
       "      <td>2.860938</td>\n",
       "      <td>1.979244</td>\n",
       "      <td>1.649370</td>\n",
       "      <td>0.881694</td>\n",
       "      <td>3.306575e-01</td>\n",
       "      <td>2.861721</td>\n",
       "      <td>3.946364e+02</td>\n",
       "    </tr>\n",
       "    <tr>\n",
       "      <th>...</th>\n",
       "      <td>...</td>\n",
       "      <td>...</td>\n",
       "      <td>...</td>\n",
       "      <td>...</td>\n",
       "      <td>...</td>\n",
       "      <td>...</td>\n",
       "      <td>...</td>\n",
       "      <td>...</td>\n",
       "      <td>...</td>\n",
       "    </tr>\n",
       "    <tr>\n",
       "      <th>235</th>\n",
       "      <td>0.060</td>\n",
       "      <td>0.005143</td>\n",
       "      <td>0.920036</td>\n",
       "      <td>0.022660</td>\n",
       "      <td>0.018883</td>\n",
       "      <td>0.897376</td>\n",
       "      <td>1.869278e-02</td>\n",
       "      <td>0.934952</td>\n",
       "      <td>3.615904e+00</td>\n",
       "    </tr>\n",
       "    <tr>\n",
       "      <th>236</th>\n",
       "      <td>0.060</td>\n",
       "      <td>0.005143</td>\n",
       "      <td>0.915304</td>\n",
       "      <td>0.018080</td>\n",
       "      <td>0.015066</td>\n",
       "      <td>0.897224</td>\n",
       "      <td>1.398221e-02</td>\n",
       "      <td>0.926273</td>\n",
       "      <td>2.704698e+00</td>\n",
       "    </tr>\n",
       "    <tr>\n",
       "      <th>237</th>\n",
       "      <td>0.060</td>\n",
       "      <td>0.005143</td>\n",
       "      <td>0.910597</td>\n",
       "      <td>0.013523</td>\n",
       "      <td>0.011270</td>\n",
       "      <td>0.897073</td>\n",
       "      <td>9.296637e-03</td>\n",
       "      <td>0.917639</td>\n",
       "      <td>1.798328e+00</td>\n",
       "    </tr>\n",
       "    <tr>\n",
       "      <th>238</th>\n",
       "      <td>0.060</td>\n",
       "      <td>0.005143</td>\n",
       "      <td>0.905913</td>\n",
       "      <td>0.008992</td>\n",
       "      <td>0.007493</td>\n",
       "      <td>0.896922</td>\n",
       "      <td>4.635944e-03</td>\n",
       "      <td>0.909051</td>\n",
       "      <td>8.967704e-01</td>\n",
       "    </tr>\n",
       "    <tr>\n",
       "      <th>239</th>\n",
       "      <td>0.060</td>\n",
       "      <td>0.005143</td>\n",
       "      <td>0.901254</td>\n",
       "      <td>0.004484</td>\n",
       "      <td>0.003737</td>\n",
       "      <td>0.896770</td>\n",
       "      <td>-1.244756e-16</td>\n",
       "      <td>0.900507</td>\n",
       "      <td>-2.407839e-14</td>\n",
       "    </tr>\n",
       "  </tbody>\n",
       "</table>\n",
       "<p>240 rows × 9 columns</p>\n",
       "</div>"
      ],
      "text/plain": [
       "       CPR       SMM  Monthly Payment  Interest In  Interest Out  \\\n",
       "0    0.002  0.000167         2.865724     2.000000      1.666667   \n",
       "1    0.004  0.000334         2.865246     1.995338      1.662782   \n",
       "2    0.006  0.000501         2.864289     1.990324      1.658603   \n",
       "3    0.008  0.000669         2.862853     1.984958      1.654132   \n",
       "4    0.010  0.000837         2.860938     1.979244      1.649370   \n",
       "..     ...       ...              ...          ...           ...   \n",
       "235  0.060  0.005143         0.920036     0.022660      0.018883   \n",
       "236  0.060  0.005143         0.915304     0.018080      0.015066   \n",
       "237  0.060  0.005143         0.910597     0.013523      0.011270   \n",
       "238  0.060  0.005143         0.905913     0.008992      0.007493   \n",
       "239  0.060  0.005143         0.901254     0.004484      0.003737   \n",
       "\n",
       "     Principal Repayment    Prepayment  Total Payment  Ending Balance  \n",
       "0               0.865724  6.658344e-02       2.598974    3.990677e+02  \n",
       "1               0.869908  1.329766e-01       2.665666    3.980648e+02  \n",
       "2               0.873965  1.991437e-01       2.731712    3.969917e+02  \n",
       "3               0.877895  2.650491e-01       2.797076    3.958488e+02  \n",
       "4               0.881694  3.306575e-01       2.861721    3.946364e+02  \n",
       "..                   ...           ...            ...             ...  \n",
       "235             0.897376  1.869278e-02       0.934952    3.615904e+00  \n",
       "236             0.897224  1.398221e-02       0.926273    2.704698e+00  \n",
       "237             0.897073  9.296637e-03       0.917639    1.798328e+00  \n",
       "238             0.896922  4.635944e-03       0.909051    8.967704e-01  \n",
       "239             0.896770 -1.244756e-16       0.900507   -2.407839e-14  \n",
       "\n",
       "[240 rows x 9 columns]"
      ]
     },
     "execution_count": 3,
     "metadata": {},
     "output_type": "execute_result"
    }
   ],
   "source": [
    "mpt = mortgagePassThrough(240, 0.06/12, 0.05/12, 100, 400)\n",
    "mpt.df"
   ]
  },
  {
   "cell_type": "code",
   "execution_count": 4,
   "metadata": {},
   "outputs": [
    {
     "data": {
      "text/plain": [
       "171.1762679366609"
      ]
     },
     "execution_count": 4,
     "metadata": {},
     "output_type": "execute_result"
    }
   ],
   "source": [
    "mpt.df[\"Interest Out\"].sum() "
   ]
  },
  {
   "cell_type": "markdown",
   "metadata": {},
   "source": [
    "<h2>Question 3</h2>"
   ]
  },
  {
   "cell_type": "code",
   "execution_count": 5,
   "metadata": {},
   "outputs": [
    {
     "data": {
      "text/plain": [
       "181.09092291220588"
      ]
     },
     "execution_count": 5,
     "metadata": {},
     "output_type": "execute_result"
    }
   ],
   "source": [
    "mpt.df[\"Prepayment\"].sum()"
   ]
  },
  {
   "cell_type": "markdown",
   "metadata": {},
   "source": [
    "<h2>Question 4</h2>"
   ]
  },
  {
   "cell_type": "code",
   "execution_count": 6,
   "metadata": {},
   "outputs": [
    {
     "data": {
      "text/plain": [
       "268.15013083265154"
      ]
     },
     "execution_count": 6,
     "metadata": {},
     "output_type": "execute_result"
    }
   ],
   "source": [
    "mpt2 = mortgagePassThrough(240, 0.06/12, 0.05/12, 200, 400)\n",
    "mpt2.df[\"Prepayment\"].sum()"
   ]
  },
  {
   "cell_type": "markdown",
   "metadata": {},
   "source": [
    "<h2>Question 5</h2>"
   ]
  },
  {
   "cell_type": "code",
   "execution_count": 7,
   "metadata": {},
   "outputs": [
    {
     "name": "stdout",
     "output_type": "stream",
     "text": [
      "280.09500764510926\n"
     ]
    }
   ],
   "source": [
    "pCashflow = mpt.df[\"Principal Repayment\"] + mpt.df[\"Prepayment\"]\n",
    "r = 0.045/12\n",
    "pvPO = getPresentValue(pCashflow, r)\n",
    "\n",
    "print(pvPO.sum())"
   ]
  },
  {
   "cell_type": "markdown",
   "metadata": {},
   "source": [
    "<h2>Question 6</h2>"
   ]
  },
  {
   "cell_type": "code",
   "execution_count": 8,
   "metadata": {},
   "outputs": [
    {
     "name": "stdout",
     "output_type": "stream",
     "text": [
      "133.2277692832153\n"
     ]
    }
   ],
   "source": [
    "iCashflow = mpt.df[\"Interest Out\"]\n",
    "pvIO = getPresentValue(iCashflow, r)\n",
    "\n",
    "print(pvIO.sum())"
   ]
  },
  {
   "cell_type": "markdown",
   "metadata": {},
   "source": [
    "<h2>Question 7</h2>"
   ]
  },
  {
   "cell_type": "code",
   "execution_count": 9,
   "metadata": {},
   "outputs": [
    {
     "name": "stdout",
     "output_type": "stream",
     "text": [
      "6.007671988639573\n"
     ]
    }
   ],
   "source": [
    "avLife = getAverageLife(iCashflow)\n",
    "\n",
    "print(avLife / 12)"
   ]
  },
  {
   "cell_type": "markdown",
   "metadata": {},
   "source": [
    "<h2>Question 8</h2>"
   ]
  },
  {
   "cell_type": "code",
   "execution_count": 10,
   "metadata": {},
   "outputs": [
    {
     "name": "stdout",
     "output_type": "stream",
     "text": [
      "7.172361899577396\n"
     ]
    }
   ],
   "source": [
    "pvIO2 = getPresentValue(iCashflow, 0.035/12)\n",
    "\n",
    "print(pvIO2.sum() - pvIO.sum())"
   ]
  },
  {
   "cell_type": "markdown",
   "metadata": {},
   "source": [
    "<h2>Question 9</h2>"
   ]
  },
  {
   "cell_type": "code",
   "execution_count": 14,
   "metadata": {},
   "outputs": [
    {
     "name": "stdout",
     "output_type": "stream",
     "text": [
      "-9.578348060320138\n"
     ]
    }
   ],
   "source": [
    "mpt3 = mortgagePassThrough(240, 0.06/12, 0.05/12, 150, 400)\n",
    "pvIO3 = getPresentValue(mpt3.df[\"Interest Out\"], 0.035/12)\n",
    "\n",
    "print(pvIO3.sum() - pvIO.sum())"
   ]
  },
  {
   "cell_type": "code",
   "execution_count": null,
   "metadata": {},
   "outputs": [],
   "source": []
  }
 ],
 "metadata": {
  "kernelspec": {
   "display_name": "Python 3",
   "language": "python",
   "name": "python3"
  },
  "language_info": {
   "codemirror_mode": {
    "name": "ipython",
    "version": 3
   },
   "file_extension": ".py",
   "mimetype": "text/x-python",
   "name": "python",
   "nbconvert_exporter": "python",
   "pygments_lexer": "ipython3",
   "version": "3.8.5"
  }
 },
 "nbformat": 4,
 "nbformat_minor": 4
}
